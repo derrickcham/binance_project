{
 "cells": [
  {
   "cell_type": "markdown",
   "id": "f0c4062c",
   "metadata": {},
   "source": [
    "Question 1\n",
    "\n",
    "Detection of fake commodity: There are a total of 100,000 pairs of shoes of a well-known brand on an e-commerce platform.\n",
    "The official guide price of these shoes is $48 ~ $68. Now we randomly sample 1,000 pairs from them for inspection, where 100 pairs of shoes with quality or counterfeit problems are found. The price distribution of the 100 pairs of counterfeit shoes is mainly concentrated on two price points, with 60 pairs for $30 and 40 pairs for $50. Please give the price point at which you can most likely buy qualified shoes at the lowest price. Prerequisite judgments can be made based on personal understanding of real life.\n"
   ]
  },
  {
   "cell_type": "markdown",
   "id": "46082a23",
   "metadata": {},
   "source": [
    "MY APPROACH\n",
    "\n",
    "My known facts\n",
    "(1) MINIMUM probability of 30 and 50 shoes dollar shoes in the inventory\n",
    "(2) Probability of counterfeit goods\n",
    "(3) Probability of prices of counterfeit goods\n",
    "\n",
    "First step: Use (1) and (2) to estimate (A) the likely probability distribution of prices, and range of prices \n",
    "\n",
    "Second step: Use (A) and (3) as inputs for Bayes' Theorem formula to calculate the posterior probability that a shoe is real GIVEN the estimated lowest price point. If it is a likely probability, we will submit that price point as the answer"
   ]
  },
  {
   "cell_type": "markdown",
   "id": "576c3d95",
   "metadata": {},
   "source": [
    "# Assess Likely Distribution of the Data"
   ]
  },
  {
   "cell_type": "markdown",
   "id": "23b9de83",
   "metadata": {},
   "source": [
    "I will draw 1000 samples from different types of distributions, scale them accordingly to the possible price ranges (30-50 or 30-68) and assess whether they can meet the constraints of at least 6 percent for 30 dollar shoes, and 4 percent for 50 dollar shoes"
   ]
  },
  {
   "cell_type": "code",
   "execution_count": 113,
   "id": "3f9f39ac",
   "metadata": {},
   "outputs": [],
   "source": [
    "import numpy as np\n",
    "\n",
    "# Needed for plotting\n",
    "import matplotlib.colors\n",
    "import matplotlib.pyplot as plt\n",
    "from mpl_toolkits.mplot3d import Axes3D\n",
    "\n",
    "# Needed for generating classification, regression and clustering datasets\n",
    "import sklearn.datasets as dt\n",
    "\n",
    "# Needed for generating data from an existing dataset\n",
    "from sklearn.neighbors import KernelDensity\n",
    "from sklearn.model_selection import GridSearchCV"
   ]
  },
  {
   "cell_type": "code",
   "execution_count": 114,
   "id": "a2d68943",
   "metadata": {},
   "outputs": [],
   "source": [
    "# Define the seed so that results can be reproduced\n",
    "seed = 11\n",
    "rand_state = 11\n",
    "\n",
    "# Define the color maps for plots\n",
    "color_map = plt.cm.get_cmap('RdYlBu')\n",
    "color_map_discrete = matplotlib.colors.LinearSegmentedColormap.from_list(\"\", [\"red\",\"cyan\",\"magenta\",\"blue\"])"
   ]
  },
  {
   "cell_type": "code",
   "execution_count": 115,
   "id": "9afcef6d",
   "metadata": {},
   "outputs": [],
   "source": [
    "rand = np.random.RandomState(seed)    \n",
    "\n",
    "dist_list = ['uniform','normal','exponential','lognormal','chisquare','beta']\n",
    "param_list = ['-1,1','0,1','1','0,1','2','0.5,0.9']\n",
    "colors_list = ['green','blue','yellow','cyan','magenta','pink']"
   ]
  },
  {
   "cell_type": "code",
   "execution_count": 123,
   "id": "75c61ac8",
   "metadata": {
    "scrolled": true
   },
   "outputs": [
    {
     "data": {
      "image/png": "[encoded data removed]",
      "text/plain": [
       "<Figure size 864x504 with 6 Axes>"
      ]
     },
     "metadata": {
      "needs_background": "light"
     },
     "output_type": "display_data"
    }
   ],
   "source": [
    "fig,ax = plt.subplots(nrows=2, ncols=3,figsize=(12,7))\n",
    "plt_ind_list = np.arange(6)+231\n",
    "\n",
    "for dist, plt_ind, param, colors in zip(dist_list, plt_ind_list, param_list, colors_list):\n",
    "    x = eval('rand.'+dist+'('+param+',1000)') \n",
    "    \n",
    "    globals()[\"distribution_\" + dist] = x\n",
    "    \n",
    "    plt.subplot(plt_ind)\n",
    "    plt.hist(x,bins=50,color=colors)\n",
    "    plt.title(dist)\n",
    "\n",
    "fig.subplots_adjust(hspace=0.4,wspace=.3) \n",
    "plt.suptitle('Sampling from Various Distributions',fontsize=20)\n",
    "plt.show()"
   ]
  },
  {
   "cell_type": "code",
   "execution_count": 395,
   "id": "99c27d63",
   "metadata": {},
   "outputs": [],
   "source": [
    "from sklearn.preprocessing import MinMaxScaler\n",
    "def find_perc_of_known_shoes(dist, lower_bound, upper_bound):\n",
    "    scaler = MinMaxScaler((lower_bound, upper_bound))\n",
    "    dist = pd.DataFrame(dist)\n",
    "    scaler.fit(dist)\n",
    "    dist = scaler.transform(dist)\n",
    "    dist = pd.DataFrame(dist, columns = ['values'])\n",
    "    dist['rounded_values'] = dist['values'].apply(lambda x:round(x))\n",
    "    perc_30 = dist[dist['rounded_values'] == 30]\n",
    "    print(\"% of $30 shoes is \" + str(len(perc_30)/len(dist)) )\n",
    "    \n",
    "    perc_50 = dist[dist['rounded_values'] == 50]\n",
    "    print(\"% of $50 shoes is \" + str(len(perc_50)/len(dist)) )"
   ]
  },
  {
   "cell_type": "code",
   "execution_count": 399,
   "id": "0877578d",
   "metadata": {},
   "outputs": [
    {
     "name": "stdout",
     "output_type": "stream",
     "text": [
      "results for price range 30-50 uniform\n",
      "% of $30 shoes is 0.049\n",
      "% of $50 shoes is 0.051\n",
      "results for price range 30-68 uniform\n",
      "% of $30 shoes is 0.028\n",
      "% of $50 shoes is 0.021\n",
      "results for price range 30-50 normal\n",
      "% of $30 shoes is 0.001\n",
      "% of $50 shoes is 0.007\n",
      "results for price range 30-68 normal\n",
      "% of $30 shoes is 0.001\n",
      "% of $50 shoes is 0.064\n",
      "results for price range 30-50 exponential\n",
      "% of $30 shoes is 0.309\n",
      "% of $50 shoes is 0.0\n",
      "results for price range 30-68 exponential\n",
      "% of $30 shoes is 0.215\n",
      "% of $50 shoes is 0.001\n",
      "results for price range 30-50 lognormal\n",
      "% of $30 shoes is 0.33\n",
      "% of $50 shoes is 0.0\n",
      "results for price range 30-68 lognormal\n",
      "% of $30 shoes is 0.4\n",
      "% of $50 shoes is 0.0\n",
      "results for price range 30-50 chisquare\n",
      "% of $30 shoes is 0.277\n",
      "% of $50 shoes is 0.0\n",
      "results for price range 30-68 chisquare\n",
      "% of $30 shoes is 0.179\n",
      "% of $50 shoes is 0.001\n",
      "results for price range 30-50 beta\n",
      "% of $30 shoes is 0.084\n",
      "% of $50 shoes is 0.037\n",
      "results for price range 30-68 beta\n",
      "% of $30 shoes is 0.067\n",
      "% of $50 shoes is 0.025\n"
     ]
    }
   ],
   "source": [
    "# Note: I set the min and max value boundary 1 value wider than the investigated price range to account for rounding issues\n",
    "\n",
    "for dist in dist_list: \n",
    "    \n",
    "    print(\"results for price range 30-50 \" + str(dist))\n",
    "    find_perc_of_known_shoes(globals()[\"distribution_\" + dist], 29, 51)\n",
    "    \n",
    "    print(\"results for price range 30-68 \" + str(dist))\n",
    "    find_perc_of_known_shoes(globals()[\"distribution_\" + dist], 29, 69)\n"
   ]
  },
  {
   "cell_type": "markdown",
   "id": "48dd8a38",
   "metadata": {},
   "source": [
    "As we see for any of the standard distributions, under both price ranges, we cannot meet the minimum occurrence constraints of the 30 dollar and 50 dollar shoe. \n",
    "\n",
    "We will have to manually adjust parameters for selected distributions to determine which is the most likely distribution"
   ]
  },
  {
   "cell_type": "code",
   "execution_count": 414,
   "id": "26684f71",
   "metadata": {},
   "outputs": [
    {
     "name": "stdout",
     "output_type": "stream",
     "text": [
      "at alpha of 0.7000000000000001\n",
      "% of $30 shoes is 0.062\n",
      "% of $50 shoes is 0.047\n"
     ]
    }
   ],
   "source": [
    "for i in np.arange(0.1, 1, 0.1):\n",
    "    dist = 'beta'\n",
    "    param = '0.5, 0.9'\n",
    "    \n",
    "    param = str(i) + ',' + '0.9'\n",
    "    x = eval('rand.'+dist+'('+param+',1000)')\n",
    "    scaler = MinMaxScaler((29, 51))\n",
    "    dist = pd.DataFrame(x)\n",
    "    scaler.fit(dist)\n",
    "    dist = scaler.transform(dist)\n",
    "    dist = pd.DataFrame(dist, columns = ['values'])\n",
    "    dist['rounded_values'] = dist['values'].apply(lambda x:round(x))\n",
    "    perc_30 = len(dist[dist['rounded_values'] == 30])/len(dist)\n",
    "    #print(\"% of $30 shoes is \" + str(len(perc_30)/len(dist)) )\n",
    "\n",
    "    perc_50 = len(dist[dist['rounded_values'] == 50])/len(dist)\n",
    "    \n",
    "    #print(\"% of $50 shoes is \" + str(len(perc_50)/len(dist)) \n",
    "          \n",
    "    if (perc_30 >= 0.06) and  (perc_50 >=0.04):\n",
    "            print(\"at alpha of \" + str(i))\n",
    "            print(\"% of $30 shoes is \" + str(perc_30) )\n",
    "            print(\"% of $50 shoes is \" + str(perc_50) )"
   ]
  },
  {
   "cell_type": "code",
   "execution_count": 426,
   "id": "8ab7e7d4",
   "metadata": {},
   "outputs": [
    {
     "data": {
      "text/plain": [
       "(array([150.,  78.,  61.,  51.,  39.,  39.,  40.,  46.,  34.,  44.,  70.,\n",
       "         31.,  40.,  36.,  32.,  42.,  33.,  42.,  36.,  56.]),\n",
       " array([29. , 30.1, 31.2, 32.3, 33.4, 34.5, 35.6, 36.7, 37.8, 38.9, 40. ,\n",
       "        41.1, 42.2, 43.3, 44.4, 45.5, 46.6, 47.7, 48.8, 49.9, 51. ]),\n",
       " <BarContainer object of 20 artists>)"
      ]
     },
     "execution_count": 426,
     "metadata": {},
     "output_type": "execute_result"
    },
    {
     "data": {
      "image/png": "[encoded data removed]",
      "text/plain": [
       "<Figure size 432x288 with 1 Axes>"
      ]
     },
     "metadata": {
      "needs_background": "light"
     },
     "output_type": "display_data"
    }
   ],
   "source": [
    "dist = 'beta'\n",
    "param = '0.7, 0.9'\n",
    "x = eval('rand.'+dist+'('+param+',1000)')\n",
    "scaler = MinMaxScaler((29, 51))\n",
    "dist = pd.DataFrame(x)\n",
    "scaler.fit(dist)\n",
    "dist = scaler.transform(dist)\n",
    "dist = pd.DataFrame(dist, columns = ['values'])\n",
    "dist['rounded_values'] = dist['values'].apply(lambda x:round(x))\n",
    "x = dist['rounded_values']\n",
    "plt.hist(x,bins=20,color=colors)\n"
   ]
  },
  {
   "cell_type": "code",
   "execution_count": 427,
   "id": "54656527",
   "metadata": {},
   "outputs": [
    {
     "data": {
      "text/plain": [
       "30    85\n",
       "31    78\n",
       "29    65\n",
       "32    61\n",
       "33    51\n",
       "37    46\n",
       "39    44\n",
       "48    42\n",
       "46    42\n",
       "50    42\n",
       "36    40\n",
       "43    40\n",
       "35    39\n",
       "40    39\n",
       "34    39\n",
       "49    36\n",
       "44    36\n",
       "38    34\n",
       "47    33\n",
       "45    32\n",
       "41    31\n",
       "42    31\n",
       "51    14\n",
       "Name: rounded_values, dtype: int64"
      ]
     },
     "execution_count": 427,
     "metadata": {},
     "output_type": "execute_result"
    }
   ],
   "source": [
    "x.value_counts()"
   ]
  },
  {
   "cell_type": "markdown",
   "id": "1743b915",
   "metadata": {},
   "source": [
    "We now have the probability distribution of prices in the range of 29-51 (expanded the original window by 1 to account for rounding). Given that the official price guide is 48-68, it's likelier that the next lowest price is > 30. The next lowest price after 30 is 31, which has the probability of 78/1000 = 0.078"
   ]
  },
  {
   "cell_type": "markdown",
   "id": "36e12d3c",
   "metadata": {},
   "source": [
    "# Apply Bayes' Formula to discover the probability that the next lowest price point is real"
   ]
  },
  {
   "cell_type": "code",
   "execution_count": 430,
   "id": "4a3cc0e3",
   "metadata": {},
   "outputs": [],
   "source": [
    "# We want to find prob of lowest price (31), given that it is real.\n",
    "# We state all the known and estimated probabilities to be factored into Bayes' formula\n",
    "prob_real = 0.9\n",
    "prob_counterfeit = 0.1\n",
    "prob_30 = 0.04\n",
    "prob_50 = 0.06\n",
    "prob_30_given_counterfeit = 0.6\n",
    "prob_50_given_counterfeit = 0.4\n",
    "prob_31 = 0.078"
   ]
  },
  {
   "cell_type": "code",
   "execution_count": 431,
   "id": "3bd3df1d",
   "metadata": {},
   "outputs": [
    {
     "name": "stdout",
     "output_type": "stream",
     "text": [
      "0.9\n"
     ]
    }
   ],
   "source": [
    "# applying Bayes' Theorem\n",
    "\n",
    "prob_real_given_lowest_price = 0 \n",
    "\n",
    "prob_real_given_lowest_price =  (((prob_real*prob_31)/prob_real) * prob_real)/prob_31\n",
    "\n",
    "print(prob_real_given_lowest_price)"
   ]
  },
  {
   "cell_type": "markdown",
   "id": "5f31d1e4",
   "metadata": {},
   "source": [
    "The probability of a real good at the second lowest price of 31 dollars within the price range is 0.9. As the probability of counterfeit is relatively low here, we should buy goods at 31 dollars. "
   ]
  }
 ],
 "metadata": {
  "kernelspec": {
   "display_name": "Python 3 (ipykernel)",
   "language": "python",
   "name": "python3"
  },
  "language_info": {
   "codemirror_mode": {
    "name": "ipython",
    "version": 3
   },
   "file_extension": ".py",
   "mimetype": "text/x-python",
   "name": "python",
   "nbconvert_exporter": "python",
   "pygments_lexer": "ipython3",
   "version": "3.9.7"
  }
 },
 "nbformat": 4,
 "nbformat_minor": 5
}
